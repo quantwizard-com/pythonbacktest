{
 "cells": [
  {
   "cell_type": "code",
   "execution_count": null,
   "metadata": {
    "collapsed": false
   },
   "outputs": [],
   "source": [
    "import sys\n",
    "import os\n",
    "\n",
    "sys.path.append(os.path.abspath(\"../..\"))"
   ]
  },
  {
   "cell_type": "code",
   "execution_count": null,
   "metadata": {
    "collapsed": false
   },
   "outputs": [],
   "source": [
    "from pythonbacktest.datafeed import CSVDataFeed\n",
    "from pythonbacktest.backtestengine import BasicBackTestEngine\n",
    "from pythonbacktest.strategy import import_strategy\n",
    "from pythonbacktest.broker import BackTestBroker\n",
    "from pythonbacktest.tradelog import MemoryTradeLog\n",
    "from pythonbacktest.charting import BokehChartRenderer\n",
    "from pythonbacktest.indicator import IndicatorHistory\n",
    "from pythonbacktest.animation import IndicatorsHistoryAnimation\n",
    "from bokeh.io import output_notebook\n",
    "from datetime import date\n",
    "from IPython.display import HTML, display\n",
    "\n",
    "# need this to set a playground for bokeh\n",
    "output_notebook()"
   ]
  },
  {
   "cell_type": "code",
   "execution_count": null,
   "metadata": {
    "collapsed": false
   },
   "outputs": [],
   "source": [
    "TEST_DATA_PATH = os.path.abspath(\"../testdata/ACME\")\n",
    "INITIAL_BUDGET = 100000\n",
    "DATE_TO_ANALYSIS = date(2016,1,2)\n",
    "\n",
    "csv_data_feed = CSVDataFeed()\n",
    "csv_data_feed.load_data(TEST_DATA_PATH)\n",
    "\n",
    "trade_log = MemoryTradeLog()\n",
    "\n",
    "broker = BackTestBroker(INITIAL_BUDGET, trade_log=trade_log, commision=1.0)"
   ]
  },
  {
   "cell_type": "code",
   "execution_count": null,
   "metadata": {
    "collapsed": true
   },
   "outputs": [],
   "source": [
    "indicator_history = IndicatorHistory()"
   ]
  },
  {
   "cell_type": "code",
   "execution_count": null,
   "metadata": {
    "collapsed": true
   },
   "outputs": [],
   "source": [
    "strategy_module = import_strategy(\n",
    "    \"basicSMAstrategy\",\n",
    "    os.path.abspath(\"basicsmastrategy.py\"))\n",
    "\n",
    "strategy = strategy_module.BasicSMAStrategy()\n",
    "\n",
    "back_test_engine = BasicBackTestEngine(csv_data_feed, strategy, broker, indicator_history)\n",
    "back_test_engine.start()"
   ]
  },
  {
   "cell_type": "code",
   "execution_count": null,
   "metadata": {
    "collapsed": false
   },
   "outputs": [],
   "source": [
    "# testing done - let's display the final budget\n",
    "print \"Free cash: %s\\n\" % broker.free_cash\n",
    "\n",
    "# print 5 last transactions\n",
    "for transaction in trade_log.all_transactions[-6:-1]:\n",
    "    print \"[%s] - %s@%s, remaining cash: %s\" % \\\n",
    "          (transaction.timestamp, transaction.transaction_type,\n",
    "           transaction.transaction_price_per_share, transaction.cash_after)"
   ]
  },
  {
   "cell_type": "code",
   "execution_count": null,
   "metadata": {
    "collapsed": false,
    "scrolled": true
   },
   "outputs": [],
   "source": [
    "all_indicators = back_test_engine.all_indicators_per_day\n",
    "indicators_per_day = all_indicators[DATE_TO_ANALYSIS]\n",
    "\n",
    "indicators_to_display = [('close', 'gray'), \n",
    "                        ('SMA200', 'blue'), \n",
    "                        ('SMA50', 'orange')]\n",
    "\n",
    "volume_indicators = [('volume', 'red')]\n",
    "\n",
    "bokeh_renderer = BokehChartRenderer()\n",
    "bokeh_renderer.render_indicators(indicators_per_day, ['trade_buy', 'trade_sell'],\n",
    "                                 indicators_to_display,\n",
    "                                    volume_indicators)"
   ]
  },
  {
   "cell_type": "code",
   "execution_count": null,
   "metadata": {
    "collapsed": false
   },
   "outputs": [],
   "source": [
    "# let's introduce an animation\n",
    "indicators_animation = IndicatorsHistoryAnimation(indicator_history, DATE_TO_ANALYSIS, \n",
    "                                                  canvassize=(30,5),\n",
    "                                                  markers=['trade_buy', 'trade_sell'], \n",
    "                                                  indicators=[indicators_to_display, volume_indicators])\n",
    "indicators_animation.start_animation()"
   ]
  },
  {
   "cell_type": "code",
   "execution_count": null,
   "metadata": {
    "collapsed": true
   },
   "outputs": [],
   "source": []
  }
 ],
 "metadata": {
  "kernelspec": {
   "display_name": "Python 2",
   "language": "python",
   "name": "python2"
  },
  "language_info": {
   "codemirror_mode": {
    "name": "ipython",
    "version": 2
   },
   "file_extension": ".py",
   "mimetype": "text/x-python",
   "name": "python",
   "nbconvert_exporter": "python",
   "pygments_lexer": "ipython2",
   "version": "2.7.11"
  }
 },
 "nbformat": 4,
 "nbformat_minor": 0
}
