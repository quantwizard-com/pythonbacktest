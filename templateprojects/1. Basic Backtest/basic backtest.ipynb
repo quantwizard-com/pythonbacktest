{
 "cells": [
  {
   "cell_type": "code",
   "execution_count": 9,
   "metadata": {
    "collapsed": true
   },
   "outputs": [],
   "source": [
    "import os\n",
    "\n",
    "from pythonbacktest import backtestengine\n",
    "from pythonbacktest.datafeed import CSVDataFeed"
   ]
  },
  {
   "cell_type": "code",
   "execution_count": 10,
   "metadata": {},
   "outputs": [],
   "source": [
    "# create data source so we could feed the strategy\n",
    "target_data_path = os.path.join(os.path.abspath(''), \"templateprojects/testdata/ACME\")\n",
    "\n",
    "csv_data_feed = CSVDataFeed()\n",
    "csv_data_feed.load_data(target_data_path)"
   ]
  },
  {
   "cell_type": "code",
   "execution_count": 8,
   "metadata": {},
   "outputs": [
    {
     "name": "stdout",
     "output_type": "stream",
     "text": [
      "{datetime.date(2016, 1, 3): <pythonbacktest.datafeed.tradingdaydata.TradingDayData instance at 0x1037e3170>, datetime.date(2016, 1, 2): <pythonbacktest.datafeed.tradingdaydata.TradingDayData instance at 0x1037e34d0>}\n"
     ]
    }
   ],
   "source": [
    "# now - as data got loaded, time to run it through a sample strategy"
   ]
  },
  {
   "cell_type": "code",
   "execution_count": null,
   "metadata": {},
   "outputs": [],
   "source": [
    ""
   ]
  }
 ],
 "metadata": {
  "kernelspec": {
   "display_name": "Python 2",
   "language": "python",
   "name": "python2"
  },
  "language_info": {
   "codemirror_mode": {
    "name": "ipython",
    "version": 2.0
   },
   "file_extension": ".py",
   "mimetype": "text/x-python",
   "name": "python",
   "nbconvert_exporter": "python",
   "pygments_lexer": "ipython2",
   "version": "2.7.6"
  }
 },
 "nbformat": 4,
 "nbformat_minor": 0
}